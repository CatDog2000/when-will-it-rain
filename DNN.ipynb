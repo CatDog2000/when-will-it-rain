{
  "nbformat": 4,
  "nbformat_minor": 0,
  "metadata": {
    "colab": {
      "provenance": [],
      "gpuType": "T4",
      "authorship_tag": "ABX9TyPG6bqPI0CP0ORovdQUUlYr",
      "include_colab_link": true
    },
    "kernelspec": {
      "name": "python3",
      "display_name": "Python 3"
    },
    "language_info": {
      "name": "python"
    },
    "accelerator": "GPU"
  },
  "cells": [
    {
      "cell_type": "markdown",
      "metadata": {
        "id": "view-in-github",
        "colab_type": "text"
      },
      "source": [
        "<a href=\"https://colab.research.google.com/github/CatDog2000/when-will-it-rain/blob/main/DNN.ipynb\" target=\"_parent\"><img src=\"https://colab.research.google.com/assets/colab-badge.svg\" alt=\"Open In Colab\"/></a>"
      ]
    },
    {
      "cell_type": "code",
      "execution_count": null,
      "metadata": {
        "id": "TtP6GzwvHAc6"
      },
      "outputs": [],
      "source": [
        "# 線形代数\n",
        "import numpy as np\n",
        "\n",
        "# データ処理、CSVファイルの読み込み（例：pd.read_csv）\n",
        "import pandas as pd\n",
        "\n",
        "# プロット描画\n",
        "import matplotlib.pyplot as plt\n",
        "\n",
        "# 可視化ツール\n",
        "import seaborn as sns\n",
        "\n",
        "from google.colab import drive\n",
        "\n",
        "\n"
      ]
    },
    {
      "cell_type": "code",
      "source": [
        "drive.mount('/content/drive')\n",
        "\n",
        "# アクセスしたいフォルダのパスを指定します。以下は例です。\n",
        "folder_path = \"/content/drive/My Drive/How-much-will-rain\"\n",
        "\n",
        "# フォルダ内のファイル一覧を表示します。\n",
        "%cd \"/content/drive/My Drive/How-much-will-rain\"\n",
        "\n",
        "%pwd"
      ],
      "metadata": {
        "colab": {
          "base_uri": "https://localhost:8080/",
          "height": 70
        },
        "id": "Iqeqvy93HlkM",
        "outputId": "61ac6585-2460-4501-cdac-238baf6e84f3"
      },
      "execution_count": null,
      "outputs": [
        {
          "output_type": "stream",
          "name": "stdout",
          "text": [
            "Mounted at /content/drive\n",
            "/content/drive/My Drive/How-much-will-rain\n"
          ]
        },
        {
          "output_type": "execute_result",
          "data": {
            "text/plain": [
              "'/content/drive/My Drive/How-much-will-rain'"
            ],
            "application/vnd.google.colaboratory.intrinsic+json": {
              "type": "string"
            }
          },
          "metadata": {},
          "execution_count": 2
        }
      ]
    },
    {
      "cell_type": "code",
      "source": [
        "df_train = pd.read_csv(\"train.csv\")\n",
        "df_no_na = df_train.dropna()\n",
        "df = df_no_na[df_no_na['Expected'] <= 1700]\n",
        "\n",
        "# List of column names to be deleted\n",
        "columns_to_delete = ['Id', 'Ref_5x5_10th', 'Ref_5x5_50th', 'Ref_5x5_90th', 'RefComposite', 'RefComposite_5x5_10th', 'RefComposite_5x5_50th', 'RefComposite_5x5_90th']\n",
        "\n",
        "# Delete the columns from the dataframe\n",
        "df = df.drop(columns=columns_to_delete)"
      ],
      "metadata": {
        "id": "UfEg74SBJj6u"
      },
      "execution_count": null,
      "outputs": []
    },
    {
      "cell_type": "code",
      "source": [
        "from sklearn.model_selection import train_test_split\n",
        "from sklearn.preprocessing import StandardScaler\n",
        "\n",
        "# Split the data into training and testing sets\n",
        "X = df.drop('Expected', axis=1)\n",
        "y = df['Expected']\n",
        "\n",
        "X_train, X_test, y_train, y_test = train_test_split(X, y, test_size=0.2, random_state=42)\n",
        "\n",
        "# Scale the features\n",
        "scaler = StandardScaler()\n",
        "X_train = scaler.fit_transform(X_train)\n",
        "X_test = scaler.transform(X_test)\n",
        "\n",
        "from keras.models import Sequential\n",
        "from keras.layers import Dense\n",
        "\n",
        "# Define the model\n",
        "model = Sequential()\n",
        "model.add(Dense(64, input_dim=X_train.shape[1], activation='relu'))  # 64ユニットの追加層\n",
        "model.add(Dense(32, activation='relu'))  # 32ユニットの追加層\n",
        "model.add(Dense(16, activation='relu'))\n",
        "model.add(Dense(8, activation='relu'))  # さらに8ユニットの追加層\n",
        "model.add(Dense(1))\n",
        "\n",
        "# Compile the model\n",
        "model.compile(loss='mean_squared_error', optimizer='adam')\n",
        "\n",
        "# Train the model\n",
        "model.fit(X_train, y_train, epochs=3, batch_size=32)\n",
        "\n",
        "# Evaluate the model\n",
        "loss = model.evaluate(X_test, y_test)\n",
        "\n",
        "print('Test loss:', loss)\n",
        "\n",
        "test_predictions = model.predict(X_test)\n"
      ],
      "metadata": {
        "colab": {
          "base_uri": "https://localhost:8080/"
        },
        "id": "cqSrS_2BJnN2",
        "outputId": "d28eecc4-c675-4de9-e32f-99a4a32985fc"
      },
      "execution_count": null,
      "outputs": [
        {
          "output_type": "stream",
          "name": "stdout",
          "text": [
            "Epoch 1/3\n",
            "69100/69100 [==============================] - 234s 3ms/step - loss: 1235.9071\n",
            "Epoch 2/3\n",
            "69100/69100 [==============================] - 234s 3ms/step - loss: 1235.0017\n",
            "Epoch 3/3\n",
            "69100/69100 [==============================] - 233s 3ms/step - loss: 1234.7421\n",
            "17275/17275 [==============================] - 35s 2ms/step - loss: 1267.9279\n",
            "Test loss: 1267.9278564453125\n",
            "17275/17275 [==============================] - 26s 2ms/step\n"
          ]
        }
      ]
    },
    {
      "cell_type": "code",
      "source": [
        "plt.scatter(test_predictions, y_test,alpha=0.1)\n",
        "plt.plot([min(test_predictions), max(test_predictions)], [min(test_predictions), max(test_predictions)], color='red')\n",
        "plt.xlabel(\"Test predictions\")\n",
        "plt.ylabel(\"y_test\")\n",
        "plt.show()"
      ],
      "metadata": {
        "id": "ZlqVNB6YHG3v"
      },
      "execution_count": null,
      "outputs": []
    },
    {
      "cell_type": "code",
      "source": [],
      "metadata": {
        "id": "0vsP2GeRHoYX"
      },
      "execution_count": null,
      "outputs": []
    }
  ]
}