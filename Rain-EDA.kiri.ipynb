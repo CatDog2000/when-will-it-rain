{
 "cells": [
  {
   "cell_type": "code",
   "execution_count": null,
   "id": "d5ca178e",
   "metadata": {},
   "outputs": [],
   "source": [
    "import pandas as pd\n",
    "import seaborn as sns\n",
    "import matplotlib.pyplot as plt"
   ]
  },
  {
   "cell_type": "code",
   "execution_count": null,
   "id": "5d7babac",
   "metadata": {},
   "outputs": [],
   "source": [
    "df=pd.read_csv(\"C:/Users/kirub/Downloads/how-much-did-it-rain-ii/train/train.csv\")"
   ]
  },
  {
   "cell_type": "code",
   "execution_count": null,
   "id": "4a872e9e",
   "metadata": {
    "scrolled": true
   },
   "outputs": [],
   "source": [
    "df.tail()"
   ]
  },
  {
   "cell_type": "code",
   "execution_count": null,
   "id": "82a9bb23",
   "metadata": {},
   "outputs": [],
   "source": [
    "df.isnull().sum()"
   ]
  },
  {
   "cell_type": "code",
   "execution_count": null,
   "id": "88c428c5",
   "metadata": {},
   "outputs": [],
   "source": [
    "ROWS=13765201 \n",
    "dict={}"
   ]
  },
  {
   "cell_type": "code",
   "execution_count": null,
   "id": "59558950",
   "metadata": {},
   "outputs": [],
   "source": [
    "for i in df.columns:\n",
    "    null=df.isnull().sum()\n",
    "    percentage=(null/ROWS)*100\n",
    "    dict['i']=percentage.astype(int)"
   ]
  },
  {
   "cell_type": "code",
   "execution_count": null,
   "id": "ffe017f9",
   "metadata": {},
   "outputs": [],
   "source": [
    "df.columns"
   ]
  },
  {
   "cell_type": "code",
   "execution_count": null,
   "id": "1b687143",
   "metadata": {},
   "outputs": [],
   "source": [
    "dict"
   ]
  },
  {
   "cell_type": "code",
   "execution_count": null,
   "id": "cb8c7120",
   "metadata": {},
   "outputs": [],
   "source": [
    "df2 = pd.DataFrame(dict)"
   ]
  },
  {
   "cell_type": "code",
   "execution_count": null,
   "id": "b3605d24",
   "metadata": {},
   "outputs": [],
   "source": [
    "df2.head(5)"
   ]
  },
  {
   "cell_type": "code",
   "execution_count": null,
   "id": "ef31be42",
   "metadata": {},
   "outputs": [],
   "source": [
    "df.plot(kind='bar')\n",
    "plt.xlabel('Columns')\n",
    "plt.ylabel('Percentage')\n",
    "plt.title('Column Percentages')\n",
    "plt.show()"
   ]
  },
  {
   "cell_type": "code",
   "execution_count": null,
   "id": "75d0bd4b",
   "metadata": {},
   "outputs": [],
   "source": []
  }
 ],
 "metadata": {
  "kernelspec": {
   "display_name": "Python 3 (ipykernel)",
   "language": "python",
   "name": "python3"
  },
  "language_info": {
   "codemirror_mode": {
    "name": "ipython",
    "version": 3
   },
   "file_extension": ".py",
   "mimetype": "text/x-python",
   "name": "python",
   "nbconvert_exporter": "python",
   "pygments_lexer": "ipython3",
   "version": "3.10.9"
  }
 },
 "nbformat": 4,
 "nbformat_minor": 5
}
