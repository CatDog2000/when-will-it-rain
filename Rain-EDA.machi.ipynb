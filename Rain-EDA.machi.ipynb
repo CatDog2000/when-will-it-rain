{
 "cells": [
  {
   "cell_type": "code",
   "execution_count": 23,
   "metadata": {},
   "outputs": [],
   "source": [
    "import numpy as np # linear algebra\n",
    "import pandas as pd # data processing, CSV file I/O (e.g. pd.read_csv)\n",
    "import matplotlib.pyplot as plt\n",
    "import seaborn as sns  # visualization tool\n",
    "from sklearn.model_selection import train_test_split\n",
    "from sklearn.linear_model import LinearRegression\n",
    "from sklearn.metrics import mean_squared_error\n",
    "from sklearn.preprocessing import StandardScaler\n",
    "from sklearn.decomposition import PCA\n"
   ]
  },
  {
   "cell_type": "code",
   "execution_count": 24,
   "metadata": {},
   "outputs": [],
   "source": [
    "df_train = pd.read_csv(r\"./train.csv\")\n",
    "df_no_na = df_train.dropna()\n",
    "df = df_no_na[df_no_na['Expected'] <= 10000]\n",
    "# List of column names to be deleted\n",
    "columns_to_delete = ['Ref_5x5_10th', 'Ref_5x5_50th', 'Ref_5x5_90th', 'RefComposite', 'RefComposite_5x5_10th', 'RefComposite_5x5_50th', 'RefComposite_5x5_90th']\n",
    "\n",
    "# Delete the columns from the dataframe\n",
    "df = df.drop(columns=columns_to_delete)"
   ]
  },
  {
   "cell_type": "code",
   "execution_count": 25,
   "metadata": {},
   "outputs": [
    {
     "name": "stdout",
     "output_type": "stream",
     "text": [
      "Training MSE: 16320.417029053106\n",
      "Test MSE: 16573.895267310178\n",
      "Training MAE: 17.473967454858336\n",
      "Test MAE: 17.45842498675406\n",
      "Training R^2 Score: 0.0007322345912909034\n",
      "Test R^2 Score: 0.000868145901332662\n"
     ]
    }
   ],
   "source": [
    "from sklearn.model_selection import train_test_split\n",
    "from sklearn.linear_model import LinearRegression\n",
    "from sklearn.metrics import mean_squared_error, mean_absolute_error, r2_score\n",
    "\n",
    "# 目的変数を設定します。\n",
    "y = df['Expected']\n",
    "X = df.drop('Expected', axis=1)\n",
    "\n",
    "# 主成分分析の結果を使用して訓練データとテストデータを分割します。\n",
    "X_train, X_test, y_train, y_test = train_test_split(X, y, test_size=0.2, random_state=42)\n",
    "\n",
    "# モデルのインスタンスを作成し、訓練データにフィットさせます。\n",
    "model = LinearRegression()\n",
    "model.fit(X_train, y_train)\n",
    "\n",
    "# 訓練データとテストデータに対する予測を行います。\n",
    "train_predictions = model.predict(X_train)\n",
    "test_predictions = model.predict(X_test)\n",
    "\n",
    "# MSEを計算します。\n",
    "train_mse = mean_squared_error(y_train, train_predictions)\n",
    "test_mse = mean_squared_error(y_test, test_predictions)\n",
    "\n",
    "# MAEを計算します。\n",
    "train_mae = mean_absolute_error(y_train, train_predictions)\n",
    "test_mae = mean_absolute_error(y_test, test_predictions)\n",
    "\n",
    "# R^2 scoreを計算します。\n",
    "train_r2 = r2_score(y_train, train_predictions)\n",
    "test_r2 = r2_score(y_test, test_predictions)\n",
    "\n",
    "# 結果を表示します。\n",
    "print(f'Training MSE: {train_mse}')\n",
    "print(f'Test MSE: {test_mse}')\n",
    "print(f'Training MAE: {train_mae}')\n",
    "print(f'Test MAE: {test_mae}')\n",
    "print(f'Training R^2 Score: {train_r2}')\n",
    "print(f'Test R^2 Score: {test_r2}')"
   ]
  },
  {
   "cell_type": "code",
   "execution_count": 26,
   "metadata": {},
   "outputs": [
    {
     "data": {
      "text/plain": [
       "(2215248, 16)"
      ]
     },
     "execution_count": 26,
     "metadata": {},
     "output_type": "execute_result"
    }
   ],
   "source": [
    "X_train.shape"
   ]
  },
  {
   "cell_type": "code",
   "execution_count": 27,
   "metadata": {},
   "outputs": [],
   "source": [
    "from sklearn.feature_selection import RFE\n",
    "\n",
    "# RFEのインスタンスを作成\n",
    "selector = RFE(model, n_features_to_select=16, step=1)\n",
    "\n",
    "# 特徴量の重要度を学習\n",
    "selector = selector.fit(X_train, y_train)\n"
   ]
  },
  {
   "cell_type": "code",
   "execution_count": 28,
   "metadata": {},
   "outputs": [
    {
     "name": "stdout",
     "output_type": "stream",
     "text": [
      "Training MSE with selected features: 16320.417029053106\n",
      "Test MSE with selected features: 16573.895267310178\n",
      "Training MAE with selected features: 17.473967454858336\n",
      "Test MAE with selected features: 17.45842498675406\n",
      "Training R^2 Score with selected features: 0.0007322345912909034\n",
      "Test R^2 Score with selected features: 0.000868145901332662\n"
     ]
    }
   ],
   "source": [
    "# RFEによって選ばれた特徴量を使って新しいデータセットを作成\n",
    "X_train_selected = selector.transform(X_train)\n",
    "X_test_selected = selector.transform(X_test)\n",
    "\n",
    "# モデルを再度訓練\n",
    "model.fit(X_train_selected, y_train)\n",
    "\n",
    "# 新しい特徴量セットで予測\n",
    "train_predictions_selected = model.predict(X_train_selected)\n",
    "test_predictions_selected = model.predict(X_test_selected)\n",
    "\n",
    "# 新しい特徴量セットでの評価指標を計算\n",
    "train_mse_selected = mean_squared_error(y_train, train_predictions_selected)\n",
    "test_mse_selected = mean_squared_error(y_test, test_predictions_selected)\n",
    "train_mae_selected = mean_absolute_error(y_train, train_predictions_selected)\n",
    "test_mae_selected = mean_absolute_error(y_test, test_predictions_selected)\n",
    "train_r2_selected = r2_score(y_train, train_predictions_selected)\n",
    "test_r2_selected = r2_score(y_test, test_predictions_selected)\n",
    "\n",
    "# 新しい評価指標を表示\n",
    "print(f'Training MSE with selected features: {train_mse_selected}')\n",
    "print(f'Test MSE with selected features: {test_mse_selected}')\n",
    "print(f'Training MAE with selected features: {train_mae_selected}')\n",
    "print(f'Test MAE with selected features: {test_mae_selected}')\n",
    "print(f'Training R^2 Score with selected features: {train_r2_selected}')\n",
    "print(f'Test R^2 Score with selected features: {test_r2_selected}')"
   ]
  },
  {
   "cell_type": "code",
   "execution_count": 29,
   "metadata": {},
   "outputs": [
    {
     "name": "stdout",
     "output_type": "stream",
     "text": [
      "Feature: Id, Coefficient: 1.2922095326476143e-07\n",
      "Feature: minutes_past, Coefficient: 0.017834875628732583\n",
      "Feature: radardist_km, Coefficient: 0.9055108628367069\n",
      "Feature: Ref, Coefficient: 0.0741735846741823\n",
      "Feature: RhoHV, Coefficient: -2.9170833103612868\n",
      "Feature: RhoHV_5x5_10th, Coefficient: 7.158013526092422\n",
      "Feature: RhoHV_5x5_50th, Coefficient: -54.85303866259386\n",
      "Feature: RhoHV_5x5_90th, Coefficient: 53.712266107704174\n",
      "Feature: Zdr, Coefficient: 0.04133663108341599\n",
      "Feature: Zdr_5x5_10th, Coefficient: 0.12713132345821418\n",
      "Feature: Zdr_5x5_50th, Coefficient: 1.0138143258567778\n",
      "Feature: Zdr_5x5_90th, Coefficient: -0.003941269830468233\n",
      "Feature: Kdp, Coefficient: -0.018597500685223624\n",
      "Feature: Kdp_5x5_10th, Coefficient: 0.1316399791171795\n",
      "Feature: Kdp_5x5_50th, Coefficient: -0.04610166229067562\n",
      "Feature: Kdp_5x5_90th, Coefficient: -0.09902616241578935\n"
     ]
    }
   ],
   "source": [
    "selected_features = X.columns[selector.support_]\n",
    "\n",
    "# モデルの係数を取得\n",
    "coefficients = model.coef_\n",
    "\n",
    "# 選択された特徴量とそれに対応する係数を表示\n",
    "for feature, coef in zip(selected_features, coefficients):\n",
    "    print(f'Feature: {feature}, Coefficient: {coef}')"
   ]
  },
  {
   "cell_type": "code",
   "execution_count": null,
   "metadata": {},
   "outputs": [],
   "source": []
  },
  {
   "cell_type": "code",
   "execution_count": null,
   "metadata": {},
   "outputs": [],
   "source": []
  },
  {
   "cell_type": "code",
   "execution_count": null,
   "metadata": {},
   "outputs": [],
   "source": []
  },
  {
   "cell_type": "code",
   "execution_count": null,
   "metadata": {},
   "outputs": [],
   "source": []
  }
 ],
 "metadata": {
  "kernelspec": {
   "display_name": "base",
   "language": "python",
   "name": "python3"
  },
  "language_info": {
   "codemirror_mode": {
    "name": "ipython",
    "version": 3
   },
   "file_extension": ".py",
   "mimetype": "text/x-python",
   "name": "python",
   "nbconvert_exporter": "python",
   "pygments_lexer": "ipython3",
   "version": "3.8.8"
  },
  "orig_nbformat": 4
 },
 "nbformat": 4,
 "nbformat_minor": 2
}
